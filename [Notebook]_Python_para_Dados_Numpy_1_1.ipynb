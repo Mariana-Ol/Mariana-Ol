{
  "nbformat": 4,
  "nbformat_minor": 0,
  "metadata": {
    "colab": {
      "provenance": [],
      "include_colab_link": true
    },
    "kernelspec": {
      "name": "python3",
      "display_name": "Python 3"
    },
    "language_info": {
      "name": "python"
    }
  },
  "cells": [
    {
      "cell_type": "markdown",
      "metadata": {
        "id": "view-in-github",
        "colab_type": "text"
      },
      "source": [
        "<a href=\"https://colab.research.google.com/github/Mariana-Ol/Mariana-Ol/blob/main/%5BNotebook%5D_Python_para_Dados_Numpy_1_1.ipynb\" target=\"_parent\"><img src=\"https://colab.research.google.com/assets/colab-badge.svg\" alt=\"Open In Colab\"/></a>"
      ]
    },
    {
      "cell_type": "code",
      "execution_count": null,
      "metadata": {
        "id": "s-4cD4a2NazV"
      },
      "outputs": [],
      "source": [
        "import numpy as np"
      ]
    },
    {
      "cell_type": "markdown",
      "source": [
        "## Rascunho - Introdução ao Numpy"
      ],
      "metadata": {
        "id": "ImIu6U1tapvP"
      }
    },
    {
      "cell_type": "code",
      "source": [
        "l = [4, 8, 2, 12, 5, 8, 0]"
      ],
      "metadata": {
        "id": "Vqe9MVcRNeZR"
      },
      "execution_count": null,
      "outputs": []
    },
    {
      "cell_type": "code",
      "source": [
        "arr = np.array(l)\n",
        "arr"
      ],
      "metadata": {
        "colab": {
          "base_uri": "https://localhost:8080/"
        },
        "id": "wAaR4l8iPeB9",
        "outputId": "ad3491f5-87ae-429b-e519-41c73404e206"
      },
      "execution_count": null,
      "outputs": [
        {
          "output_type": "execute_result",
          "data": {
            "text/plain": [
              "array([ 4,  8,  2, 12,  5,  8,  0])"
            ]
          },
          "metadata": {},
          "execution_count": 7
        }
      ]
    },
    {
      "cell_type": "markdown",
      "source": [],
      "metadata": {
        "id": "VRiILYp9ZuF_"
      }
    },
    {
      "cell_type": "code",
      "source": [
        "type(arr)"
      ],
      "metadata": {
        "colab": {
          "base_uri": "https://localhost:8080/"
        },
        "id": "DRsgDeOvPj2M",
        "outputId": "63c3c574-4253-4b8f-82a1-af9d31398344"
      },
      "execution_count": null,
      "outputs": [
        {
          "output_type": "execute_result",
          "data": {
            "text/plain": [
              "numpy.ndarray"
            ]
          },
          "metadata": {},
          "execution_count": 6
        }
      ]
    },
    {
      "cell_type": "code",
      "source": [
        "l2 = [[1, 2, 3],\n",
        "      [4, 5, 6]]\n",
        "\n",
        "np.array(l2)"
      ],
      "metadata": {
        "colab": {
          "base_uri": "https://localhost:8080/"
        },
        "id": "J0QdGt9fPlKi",
        "outputId": "27c148bc-3b26-4730-fc69-19073cf768f6"
      },
      "execution_count": null,
      "outputs": [
        {
          "output_type": "execute_result",
          "data": {
            "text/plain": [
              "array([[1, 2, 3],\n",
              "       [4, 5, 6]])"
            ]
          },
          "metadata": {},
          "execution_count": 8
        }
      ]
    },
    {
      "cell_type": "code",
      "source": [
        "np.zeros()\n",
        "np.arange()\n",
        "np.random.random()"
      ],
      "metadata": {
        "id": "UXc41fNPUPHk"
      },
      "execution_count": null,
      "outputs": []
    },
    {
      "cell_type": "code",
      "source": [
        "l3 = [1, \"ss\", []]\n",
        "a = np.array(l3)"
      ],
      "metadata": {
        "id": "Zkq_q0cNP57z",
        "colab": {
          "base_uri": "https://localhost:8080/"
        },
        "outputId": "34fc9c7d-1c51-4684-be9e-ceab4e04986f"
      },
      "execution_count": null,
      "outputs": [
        {
          "output_type": "stream",
          "name": "stderr",
          "text": [
            "<ipython-input-12-84f5fad3fe04>:2: VisibleDeprecationWarning: Creating an ndarray from ragged nested sequences (which is a list-or-tuple of lists-or-tuples-or ndarrays with different lengths or shapes) is deprecated. If you meant to do this, you must specify 'dtype=object' when creating the ndarray.\n",
            "  a = np.array(l3)\n"
          ]
        }
      ]
    },
    {
      "cell_type": "code",
      "source": [
        "np.zeros((5, 3))"
      ],
      "metadata": {
        "colab": {
          "base_uri": "https://localhost:8080/"
        },
        "id": "o8Z1Z8idR7fj",
        "outputId": "ed8cc855-6e74-4832-d8b7-503ab1d9e300"
      },
      "execution_count": null,
      "outputs": [
        {
          "output_type": "execute_result",
          "data": {
            "text/plain": [
              "array([[0., 0., 0.],\n",
              "       [0., 0., 0.],\n",
              "       [0., 0., 0.],\n",
              "       [0., 0., 0.],\n",
              "       [0., 0., 0.]])"
            ]
          },
          "metadata": {},
          "execution_count": 24
        }
      ]
    },
    {
      "cell_type": "code",
      "source": [
        "np.random.random((2,3))"
      ],
      "metadata": {
        "colab": {
          "base_uri": "https://localhost:8080/"
        },
        "id": "1OWHhsD_R9Wu",
        "outputId": "3a5c8303-4617-47b8-8c49-257409202f2c"
      },
      "execution_count": null,
      "outputs": [
        {
          "output_type": "execute_result",
          "data": {
            "text/plain": [
              "array([[0.35213731, 0.43131085, 0.1132482 ],\n",
              "       [0.86372949, 0.38807941, 0.64214068]])"
            ]
          },
          "metadata": {},
          "execution_count": 21
        }
      ]
    },
    {
      "cell_type": "code",
      "source": [
        "np.random"
      ],
      "metadata": {
        "colab": {
          "base_uri": "https://localhost:8080/"
        },
        "id": "vQdnroSJS8L-",
        "outputId": "a7cb5551-61d3-4968-a3c0-74dfe5d993ee"
      },
      "execution_count": null,
      "outputs": [
        {
          "output_type": "execute_result",
          "data": {
            "text/plain": [
              "<module 'numpy.random' from '/usr/local/lib/python3.10/dist-packages/numpy/random/__init__.py'>"
            ]
          },
          "metadata": {},
          "execution_count": 25
        }
      ]
    },
    {
      "cell_type": "code",
      "source": [
        "np.arange(-2, 5, 2)"
      ],
      "metadata": {
        "colab": {
          "base_uri": "https://localhost:8080/"
        },
        "id": "tvSvwbt2WDoW",
        "outputId": "5357bc28-9ff4-4c85-f3a7-8144db729710"
      },
      "execution_count": null,
      "outputs": [
        {
          "output_type": "execute_result",
          "data": {
            "text/plain": [
              "array([-2,  0,  2,  4])"
            ]
          },
          "metadata": {},
          "execution_count": 29
        }
      ]
    },
    {
      "cell_type": "code",
      "source": [
        "list(range(-2, 5, 2))"
      ],
      "metadata": {
        "colab": {
          "base_uri": "https://localhost:8080/"
        },
        "id": "Q5ugFgTxWHuN",
        "outputId": "f4b010f7-8c58-4717-91e8-6a07bb13fcc0"
      },
      "execution_count": null,
      "outputs": [
        {
          "output_type": "execute_result",
          "data": {
            "text/plain": [
              "[-2, 0, 2, 4]"
            ]
          },
          "metadata": {},
          "execution_count": 30
        }
      ]
    },
    {
      "cell_type": "code",
      "source": [
        "from matplotlib import pyplot as plt"
      ],
      "metadata": {
        "id": "sHo2Y7dGWKgG"
      },
      "execution_count": null,
      "outputs": []
    },
    {
      "cell_type": "code",
      "source": [
        "plt.scatter(np.arange(0,12),\n",
        "            np.arange(-3,9))\n",
        "plt.show()"
      ],
      "metadata": {
        "colab": {
          "base_uri": "https://localhost:8080/",
          "height": 430
        },
        "id": "jGGAaAAyWeDr",
        "outputId": "f591c1e3-5a21-4a17-dc35-d90d822b7383"
      },
      "execution_count": null,
      "outputs": [
        {
          "output_type": "display_data",
          "data": {
            "text/plain": [
              "<Figure size 640x480 with 1 Axes>"
            ],
            "image/png": "[encoded data removed]"
          },
          "metadata": {}
        }
      ]
    },
    {
      "cell_type": "code",
      "source": [],
      "metadata": {
        "id": "xJ1LV8DNWmQN"
      },
      "execution_count": null,
      "outputs": []
    },
    {
      "cell_type": "markdown",
      "source": [
        "## 1. Crie um array com 4 linhas e 3 colunas com valores aleatórios"
      ],
      "metadata": {
        "id": "8KGd6hxvXHbw"
      }
    },
    {
      "cell_type": "code",
      "source": [],
      "metadata": {
        "id": "amvVfwQI24JW"
      },
      "execution_count": null,
      "outputs": []
    },
    {
      "cell_type": "markdown",
      "source": [
        "## 2. Crie um array com valores inteiros 3 linhas e 5 colunas com valores aleatórios"
      ],
      "metadata": {
        "id": "XjvUczhmXZi-"
      }
    },
    {
      "cell_type": "code",
      "source": [],
      "metadata": {
        "id": "y0pkI-C824nO"
      },
      "execution_count": null,
      "outputs": []
    },
    {
      "cell_type": "markdown",
      "source": [
        "## 3. Crie um array com 5 colunas e 10 linhas inicializados com zeros."
      ],
      "metadata": {
        "id": "6nnXiIr2ZyLZ"
      }
    },
    {
      "cell_type": "code",
      "source": [],
      "metadata": {
        "id": "0tWf-9PK25DQ"
      },
      "execution_count": null,
      "outputs": []
    },
    {
      "cell_type": "markdown",
      "source": [
        "## 4. Crie um array que vá entre 0 e 90 pulando de 4 em 4"
      ],
      "metadata": {
        "id": "mojhFJbIa3YL"
      }
    },
    {
      "cell_type": "code",
      "source": [],
      "metadata": {
        "id": "BcdjcvUC25qk"
      },
      "execution_count": null,
      "outputs": []
    },
    {
      "cell_type": "markdown",
      "source": [
        "\n",
        "\n",
        "---\n",
        "## Rascunhos - Array com 3 dimensões\n"
      ],
      "metadata": {
        "id": "3P8kKI8fagz-"
      }
    },
    {
      "cell_type": "code",
      "source": [
        "arr1_2d = np.array([[1, 2], [3, 4]])\n",
        "arr2_2d = np.array([[5, 6], [7, 8]])\n",
        "arr3_2d = np.array([[9, 2], [3, 4]])\n",
        "\n",
        "arr_3d = np.array([arr1_2d, arr1_2d, arr3_2d])\n"
      ],
      "metadata": {
        "id": "HHOMuU8WYljG"
      },
      "execution_count": null,
      "outputs": []
    },
    {
      "cell_type": "code",
      "source": [
        "arr_4d = np.random.random((2, 2, 3, 2))\n",
        "arr_4d"
      ],
      "metadata": {
        "colab": {
          "base_uri": "https://localhost:8080/"
        },
        "id": "YzpkKUOebm5t",
        "outputId": "fcc7963c-1cb4-4fa8-8e0f-5e3a76f3dc4f"
      },
      "execution_count": null,
      "outputs": [
        {
          "output_type": "execute_result",
          "data": {
            "text/plain": [
              "array([[[[0.953281  , 0.22771597],\n",
              "         [0.54227433, 0.97680826],\n",
              "         [0.17372674, 0.51363999]],\n",
              "\n",
              "        [[0.11569002, 0.73550935],\n",
              "         [0.61142573, 0.78148574],\n",
              "         [0.36119715, 0.30681021]]],\n",
              "\n",
              "\n",
              "       [[[0.65858347, 0.20332485],\n",
              "         [0.34322354, 0.69196893],\n",
              "         [0.82172891, 0.92326065]],\n",
              "\n",
              "        [[0.8850374 , 0.92557848],\n",
              "         [0.21043341, 0.08361193],\n",
              "         [0.10593606, 0.00489527]]]])"
            ]
          },
          "metadata": {},
          "execution_count": 57
        }
      ]
    },
    {
      "cell_type": "code",
      "source": [
        "np.array([arr_3d, arr_3d])"
      ],
      "metadata": {
        "colab": {
          "base_uri": "https://localhost:8080/"
        },
        "id": "QA5bPlE5bnXu",
        "outputId": "e206a92d-8bdb-4930-8994-db0b21680747"
      },
      "execution_count": null,
      "outputs": [
        {
          "output_type": "execute_result",
          "data": {
            "text/plain": [
              "array([[[[1, 2],\n",
              "         [3, 4]],\n",
              "\n",
              "        [[1, 2],\n",
              "         [3, 4]],\n",
              "\n",
              "        [[9, 2],\n",
              "         [3, 4]]],\n",
              "\n",
              "\n",
              "       [[[1, 2],\n",
              "         [3, 4]],\n",
              "\n",
              "        [[1, 2],\n",
              "         [3, 4]],\n",
              "\n",
              "        [[9, 2],\n",
              "         [3, 4]]]])"
            ]
          },
          "metadata": {},
          "execution_count": 58
        }
      ]
    },
    {
      "cell_type": "code",
      "source": [
        "arr = np.zeros((2, 4))\n",
        "arr"
      ],
      "metadata": {
        "colab": {
          "base_uri": "https://localhost:8080/"
        },
        "id": "iuUyqGhaj64h",
        "outputId": "c4d1a222-8f66-4d63-8ec3-e51b36bb3204"
      },
      "execution_count": null,
      "outputs": [
        {
          "output_type": "execute_result",
          "data": {
            "text/plain": [
              "array([[0., 0., 0., 0.],\n",
              "       [0., 0., 0., 0.]])"
            ]
          },
          "metadata": {},
          "execution_count": 62
        }
      ]
    },
    {
      "cell_type": "code",
      "source": [
        "arr.shape"
      ],
      "metadata": {
        "colab": {
          "base_uri": "https://localhost:8080/"
        },
        "id": "PdQLoHSLj_tg",
        "outputId": "93b39ad0-ba43-40bd-d87d-cd0200589724"
      },
      "execution_count": null,
      "outputs": [
        {
          "output_type": "execute_result",
          "data": {
            "text/plain": [
              "(2, 4)"
            ]
          },
          "metadata": {},
          "execution_count": 63
        }
      ]
    },
    {
      "cell_type": "code",
      "source": [
        "arr = np.array([[3, 4], [8, 11], [9, 9]])\n",
        "arr.flatten()\n"
      ],
      "metadata": {
        "colab": {
          "base_uri": "https://localhost:8080/"
        },
        "id": "6zrSz-caeh1Y",
        "outputId": "8265c80f-6a2e-4631-8dc8-1831ddbec30c"
      },
      "execution_count": null,
      "outputs": [
        {
          "output_type": "execute_result",
          "data": {
            "text/plain": [
              "array([ 3,  4,  8, 11,  9,  9])"
            ]
          },
          "metadata": {},
          "execution_count": 59
        }
      ]
    },
    {
      "cell_type": "code",
      "source": [
        "arr = np.array([[3, 4, 2], [8, 11, 5]])\n",
        "arr.reshape((3, 2))\n"
      ],
      "metadata": {
        "colab": {
          "base_uri": "https://localhost:8080/"
        },
        "id": "4Am1WW6xkKSJ",
        "outputId": "133b6564-3d71-4700-cc23-9b7c92e1afff"
      },
      "execution_count": null,
      "outputs": [
        {
          "output_type": "execute_result",
          "data": {
            "text/plain": [
              "array([[ 3,  4],\n",
              "       [ 2,  8],\n",
              "       [11,  5]])"
            ]
          },
          "metadata": {},
          "execution_count": 64
        }
      ]
    },
    {
      "cell_type": "code",
      "source": [
        "arr.reshape((3, 3))"
      ],
      "metadata": {
        "colab": {
          "base_uri": "https://localhost:8080/",
          "height": 175
        },
        "id": "Ohfi34OZkNyk",
        "outputId": "23f3d2ee-4ce1-4e3e-f721-21f8ed9e4fd9"
      },
      "execution_count": null,
      "outputs": [
        {
          "output_type": "error",
          "ename": "ValueError",
          "evalue": "ignored",
          "traceback": [
            "\u001b[0;31m---------------------------------------------------------------------------\u001b[0m",
            "\u001b[0;31mValueError\u001b[0m                                Traceback (most recent call last)",
            "\u001b[0;32m<ipython-input-65-a5ab0f3d8792>\u001b[0m in \u001b[0;36m<cell line: 1>\u001b[0;34m()\u001b[0m\n\u001b[0;32m----> 1\u001b[0;31m \u001b[0marr\u001b[0m\u001b[0;34m.\u001b[0m\u001b[0mreshape\u001b[0m\u001b[0;34m(\u001b[0m\u001b[0;34m(\u001b[0m\u001b[0;36m3\u001b[0m\u001b[0;34m,\u001b[0m \u001b[0;36m3\u001b[0m\u001b[0;34m)\u001b[0m\u001b[0;34m)\u001b[0m\u001b[0;34m\u001b[0m\u001b[0;34m\u001b[0m\u001b[0m\n\u001b[0m",
            "\u001b[0;31mValueError\u001b[0m: cannot reshape array of size 6 into shape (3,3)"
          ]
        }
      ]
    },
    {
      "cell_type": "markdown",
      "source": [
        "## 1. Reduza o array (5,7) a apenas uma dimensão"
      ],
      "metadata": {
        "id": "3c2qHtxhsN77"
      }
    },
    {
      "cell_type": "code",
      "source": [],
      "metadata": {
        "id": "05mvXbPciElu"
      },
      "execution_count": null,
      "outputs": []
    },
    {
      "cell_type": "markdown",
      "source": [
        "## 2. Considerando que você é uma organizadora de um jogo de bingo. Crie um array que irá representar a cartilha desses jogos de bingo. os números da suas cartelas variam entre 1 e 30, e você terá 10 participantes. Cada cartela terá 12 números (4, 3).\n",
        "## Crie um array que represente esse jogo"
      ],
      "metadata": {
        "id": "6mh-aOcQqy0S"
      }
    },
    {
      "cell_type": "code",
      "source": [],
      "metadata": {
        "id": "2LWkIt6I2OGo"
      },
      "execution_count": null,
      "outputs": []
    },
    {
      "cell_type": "markdown",
      "source": [
        "## 3. Faça o reshape das suas cartelas para que haja 5 cartelas de 4 linhas e 6 colunas"
      ],
      "metadata": {
        "id": "vopTx8gjtiMn"
      }
    },
    {
      "cell_type": "code",
      "source": [],
      "metadata": {
        "id": "LVHYKk0ys5JA"
      },
      "execution_count": null,
      "outputs": []
    },
    {
      "cell_type": "markdown",
      "source": [
        "# Tipo de dados em um numpy array\n"
      ],
      "metadata": {
        "id": "8f6qpfC3_2mk"
      }
    },
    {
      "cell_type": "code",
      "source": [
        "np.array([2.14, 6.25, 160.87, 8.4]).dtype"
      ],
      "metadata": {
        "colab": {
          "base_uri": "https://localhost:8080/"
        },
        "id": "Zw9N5oXN_7WV",
        "outputId": "fd8c4b8f-feab-47fa-bd73-f6248f53cc67"
      },
      "execution_count": null,
      "outputs": [
        {
          "output_type": "execute_result",
          "data": {
            "text/plain": [
              "dtype('float64')"
            ]
          },
          "metadata": {},
          "execution_count": 78
        }
      ]
    },
    {
      "cell_type": "code",
      "source": [
        "np.array([2, 6, 160, 8]).dtype"
      ],
      "metadata": {
        "colab": {
          "base_uri": "https://localhost:8080/"
        },
        "id": "xKPsZ4pAACOz",
        "outputId": "bf1bb72b-6fc2-4632-b057-038c07832983"
      },
      "execution_count": null,
      "outputs": [
        {
          "output_type": "execute_result",
          "data": {
            "text/plain": [
              "dtype('int64')"
            ]
          },
          "metadata": {},
          "execution_count": 79
        }
      ]
    },
    {
      "cell_type": "code",
      "source": [
        "np.array([\"Hello\", \"Coder\", \"Girls\"]).dtype"
      ],
      "metadata": {
        "colab": {
          "base_uri": "https://localhost:8080/"
        },
        "id": "--fFIEgvAtKF",
        "outputId": "725b4772-f5b8-4dc4-83aa-186b3648f34e"
      },
      "execution_count": null,
      "outputs": [
        {
          "output_type": "execute_result",
          "data": {
            "text/plain": [
              "dtype('<U5')"
            ]
          },
          "metadata": {},
          "execution_count": 80
        }
      ]
    },
    {
      "cell_type": "code",
      "source": [
        "arr_flaot32 = np.array([2.14, 6.25, 160.87], dtype=np.float32)\n",
        "arr_flaot32"
      ],
      "metadata": {
        "colab": {
          "base_uri": "https://localhost:8080/"
        },
        "id": "lgYPwwpFA2AR",
        "outputId": "4af05e2b-2be6-4fa8-ae66-988473d8470b"
      },
      "execution_count": null,
      "outputs": [
        {
          "output_type": "execute_result",
          "data": {
            "text/plain": [
              "array([  2.14,   6.25, 160.87], dtype=float32)"
            ]
          },
          "metadata": {},
          "execution_count": 81
        }
      ]
    },
    {
      "cell_type": "code",
      "source": [
        "arr_vf = np.array([[True, False], [True, True]], dtype=np.bool8)\n",
        "arr_vf.astype(np.int32)"
      ],
      "metadata": {
        "colab": {
          "base_uri": "https://localhost:8080/"
        },
        "id": "XpBTC041BtpR",
        "outputId": "819218cb-ac90-46d1-a981-d73bff98480b"
      },
      "execution_count": null,
      "outputs": [
        {
          "output_type": "execute_result",
          "data": {
            "text/plain": [
              "array([[1, 0],\n",
              "       [1, 1]], dtype=int32)"
            ]
          },
          "metadata": {},
          "execution_count": 84
        }
      ]
    },
    {
      "cell_type": "code",
      "source": [
        "np.array([\"pedra\", False , 42, 42.42])"
      ],
      "metadata": {
        "colab": {
          "base_uri": "https://localhost:8080/"
        },
        "id": "6tE5yQ60CbsL",
        "outputId": "1796346a-bd8c-4108-bcaf-2116c1bbf10c"
      },
      "execution_count": null,
      "outputs": [
        {
          "output_type": "execute_result",
          "data": {
            "text/plain": [
              "array(['pedra', 'False', '42', '42.42'], dtype='<U32')"
            ]
          },
          "metadata": {},
          "execution_count": 85
        }
      ]
    },
    {
      "cell_type": "code",
      "source": [
        "np.array([0, 10]).dtype"
      ],
      "metadata": {
        "colab": {
          "base_uri": "https://localhost:8080/"
        },
        "id": "K2Rq5Mb2DbPq",
        "outputId": "f3d34eae-6036-423e-bb8e-0079f59a5679"
      },
      "execution_count": null,
      "outputs": [
        {
          "output_type": "execute_result",
          "data": {
            "text/plain": [
              "dtype('int64')"
            ]
          },
          "metadata": {},
          "execution_count": 88
        }
      ]
    },
    {
      "cell_type": "code",
      "source": [
        "np.array([0, 10, 1.]).dtype"
      ],
      "metadata": {
        "colab": {
          "base_uri": "https://localhost:8080/"
        },
        "id": "q_gjB8HGDbTE",
        "outputId": "eedb7060-1240-40b2-95cf-6ae9b69de105"
      },
      "execution_count": null,
      "outputs": [
        {
          "output_type": "execute_result",
          "data": {
            "text/plain": [
              "dtype('float64')"
            ]
          },
          "metadata": {},
          "execution_count": 89
        }
      ]
    },
    {
      "cell_type": "code",
      "source": [
        "np.array([True, False]).dtype"
      ],
      "metadata": {
        "colab": {
          "base_uri": "https://localhost:8080/"
        },
        "id": "hAKlEJtjDUH7",
        "outputId": "0ecdadf8-79f2-4c4b-f67f-35166859229e"
      },
      "execution_count": null,
      "outputs": [
        {
          "output_type": "execute_result",
          "data": {
            "text/plain": [
              "dtype('bool')"
            ]
          },
          "metadata": {},
          "execution_count": 87
        }
      ]
    },
    {
      "cell_type": "code",
      "source": [
        "np.array([True, False, 12]).dtype"
      ],
      "metadata": {
        "colab": {
          "base_uri": "https://localhost:8080/"
        },
        "id": "kR-8fpMjCi8f",
        "outputId": "005e8f44-5b25-4fc0-ba05-165be3734222"
      },
      "execution_count": null,
      "outputs": [
        {
          "output_type": "execute_result",
          "data": {
            "text/plain": [
              "dtype('int64')"
            ]
          },
          "metadata": {},
          "execution_count": 86
        }
      ]
    }
  ]
}